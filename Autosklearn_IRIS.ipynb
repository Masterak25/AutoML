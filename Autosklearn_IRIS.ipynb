{
  "nbformat": 4,
  "nbformat_minor": 0,
  "metadata": {
    "colab": {
      "name": "Autosklearn_IRIS.ipynb",
      "provenance": [],
      "authorship_tag": "ABX9TyPDNZ0zhCxOFAWe3QS23Dkv",
      "include_colab_link": true
    },
    "kernelspec": {
      "name": "python3",
      "display_name": "Python 3"
    },
    "language_info": {
      "name": "python"
    }
  },
  "cells": [
    {
      "cell_type": "markdown",
      "metadata": {
        "id": "view-in-github",
        "colab_type": "text"
      },
      "source": [
        "<a href=\"https://colab.research.google.com/github/Masterak25/AutoML/blob/main/Autosklearn_IRIS.ipynb\" target=\"_parent\"><img src=\"https://colab.research.google.com/assets/colab-badge.svg\" alt=\"Open In Colab\"/></a>"
      ]
    },
    {
      "cell_type": "code",
      "metadata": {
        "id": "GWd-YJ13qxkG"
      },
      "source": [
        "#! pip install auto-sklearn"
      ],
      "execution_count": 1,
      "outputs": []
    },
    {
      "cell_type": "code",
      "metadata": {
        "id": "4hs-pQnzrAuI"
      },
      "source": [
        "import time\n",
        "import sklearn\n",
        "import sklearn.datasets"
      ],
      "execution_count": 2,
      "outputs": []
    },
    {
      "cell_type": "markdown",
      "metadata": {
        "id": "EKeT_hglrIQo"
      },
      "source": [
        "# **load and split data**"
      ]
    },
    {
      "cell_type": "code",
      "metadata": {
        "id": "DhrxJo_zrLBB"
      },
      "source": [
        "data, target = sklearn.datasets.load_iris(return_X_y=True)"
      ],
      "execution_count": 3,
      "outputs": []
    },
    {
      "cell_type": "code",
      "metadata": {
        "id": "buwCWqs1rQiL"
      },
      "source": [
        "n = int(data.shape[0] * 0.8)"
      ],
      "execution_count": 4,
      "outputs": []
    },
    {
      "cell_type": "code",
      "metadata": {
        "id": "4DWsrnnKrUSh"
      },
      "source": [
        "train_x = data[:n]\n",
        "train_y = target[:n]\n",
        "test_x = data[n:]\n",
        "test_y = target[n:]"
      ],
      "execution_count": 5,
      "outputs": []
    },
    {
      "cell_type": "markdown",
      "metadata": {
        "id": "eF7ToWAIra1Y"
      },
      "source": [
        "# import classifiers"
      ]
    },
    {
      "cell_type": "code",
      "metadata": {
        "id": "GTaLrIy7rb94"
      },
      "source": [
        "from sklearn.svm import SVC\n",
        "from sklearn.neural_network import MLPClassifier\n",
        "from sklearn.neighbors import KNeighborsClassifier"
      ],
      "execution_count": 6,
      "outputs": []
    },
    {
      "cell_type": "code",
      "metadata": {
        "id": "0r3-33T-rgLa"
      },
      "source": [
        "# instantiate with default parameters\n",
        "knn = KNeighborsClassifier()\n",
        "mlp = MLPClassifier()\n",
        "svm = SVC()"
      ],
      "execution_count": 7,
      "outputs": []
    },
    {
      "cell_type": "code",
      "metadata": {
        "colab": {
          "base_uri": "https://localhost:8080/"
        },
        "id": "HSjR1RyVrlbI",
        "outputId": "5b12961a-a05f-4730-c2cd-719eaf70d766"
      },
      "source": [
        "t0 = time.time()\n",
        "knn.fit(train_x, train_y)\n",
        "mlp.fit(train_x, train_y)\n",
        "svm.fit(train_x, train_y)\n",
        "t1 = time.time()"
      ],
      "execution_count": 8,
      "outputs": [
        {
          "output_type": "stream",
          "name": "stderr",
          "text": [
            "/usr/local/lib/python3.7/dist-packages/sklearn/neural_network/_multilayer_perceptron.py:617: ConvergenceWarning: Stochastic Optimizer: Maximum iterations (200) reached and the optimization hasn't converged yet.\n",
            "  % self.max_iter, ConvergenceWarning)\n"
          ]
        }
      ]
    },
    {
      "cell_type": "code",
      "metadata": {
        "id": "LJGlxLlIrt3Y"
      },
      "source": [
        "knn_predict = knn.predict(test_x)\n",
        "train_knn_predict = knn.predict(train_x)\n",
        "\n",
        "svm_predict = svm.predict(test_x)\n",
        "train_svm_predict = svm.predict(train_x)\n",
        "\n",
        "mlp_predict = mlp.predict(test_x)\n",
        "train_mlp_predict = mlp.predict(train_x)"
      ],
      "execution_count": 9,
      "outputs": []
    },
    {
      "cell_type": "code",
      "metadata": {
        "id": "KSzkepkDr0Zi"
      },
      "source": [
        "knn_accuracy = sklearn.metrics.accuracy_score(test_y, knn_predict)\n",
        "train_knn_accuracy = sklearn.metrics.accuracy_score(train_y,train_knn_predict)\n",
        "\n",
        "svm_accuracy = sklearn.metrics.accuracy_score(test_y, svm_predict)\n",
        "train_svm_accuracy = sklearn.metrics.accuracy_score(train_y,train_svm_predict)\n",
        "\n",
        "mlp_accuracy = sklearn.metrics.accuracy_score(test_y, mlp_predict)\n",
        "train_mlp_accuracy = sklearn.metrics.accuracy_score(train_y,train_mlp_predict)\n"
      ],
      "execution_count": 10,
      "outputs": []
    },
    {
      "cell_type": "code",
      "metadata": {
        "colab": {
          "base_uri": "https://localhost:8080/"
        },
        "id": "3A4zBaDEr3Hg",
        "outputId": "214ef235-0296-4689-bdf2-c303b132eeb8"
      },
      "source": [
        "print(f\"svm, knn, mlp test accuracy: {svm_accuracy:.4f},\" \\\n",
        "           f\"{knn_accuracy:.4}, {mlp_accuracy:.4}\")\n",
        "print(f\"svm, knn, mlp train accuracy: {train_svm_accuracy:.4f},\" \\\n",
        "           f\"{train_knn_accuracy:.4}, {train_mlp_accuracy:.4}\")\n",
        "print(f\"time to fit: {t1-t0}\")"
      ],
      "execution_count": 11,
      "outputs": [
        {
          "output_type": "stream",
          "name": "stdout",
          "text": [
            "svm, knn, mlp test accuracy: 0.7000,0.8, 0.5667\n",
            "svm, knn, mlp train accuracy: 0.9667,0.9833, 0.9833\n",
            "time to fit: 0.16647911071777344\n"
          ]
        }
      ]
    },
    {
      "cell_type": "markdown",
      "metadata": {
        "id": "tfDEnCNHsEXA"
      },
      "source": [
        "# AutoSKlearnClassifier"
      ]
    },
    {
      "cell_type": "code",
      "metadata": {
        "id": "VhYnqLuXsaog"
      },
      "source": [
        "#!pip install scipy --upgrade"
      ],
      "execution_count": 12,
      "outputs": []
    },
    {
      "cell_type": "code",
      "metadata": {
        "colab": {
          "base_uri": "https://localhost:8080/"
        },
        "id": "ObSlIxlOsuFg",
        "outputId": "ddde2b11-cb22-49d4-9745-97614b929320"
      },
      "source": [
        "pip show scipy"
      ],
      "execution_count": 13,
      "outputs": [
        {
          "output_type": "stream",
          "name": "stdout",
          "text": [
            "Name: scipy\n",
            "Version: 1.7.2\n",
            "Summary: SciPy: Scientific Library for Python\n",
            "Home-page: https://www.scipy.org\n",
            "Author: None\n",
            "Author-email: None\n",
            "License: BSD\n",
            "Location: /usr/local/lib/python3.7/dist-packages\n",
            "Requires: numpy\n",
            "Required-by: yellowbrick, xgboost, Theano-PyMC, statsmodels, smac, sklearn-pandas, seaborn, scs, scikit-learn, scikit-image, resampy, qdldl, pymc3, plotnine, osqp, mlxtend, missingno, matplotlib-venn, lightgbm, librosa, jaxlib, jax, imgaug, imbalanced-learn, hyperopt, gym, gensim, fastai, fa2, ecos, cvxpy, auto-sklearn, arviz, albumentations\n"
          ]
        }
      ]
    },
    {
      "cell_type": "code",
      "metadata": {
        "id": "VcEJyD1Jr7D5"
      },
      "source": [
        "import autosklearn\n",
        "from autosklearn.classification import AutoSklearnClassifier as ASC"
      ],
      "execution_count": 14,
      "outputs": []
    },
    {
      "cell_type": "code",
      "metadata": {
        "id": "YV1a05C3s7o4"
      },
      "source": [
        "classifier = ASC()\n",
        "classifier.time_left_for_this_task = 300"
      ],
      "execution_count": 15,
      "outputs": []
    },
    {
      "cell_type": "code",
      "metadata": {
        "colab": {
          "base_uri": "https://localhost:8080/"
        },
        "id": "QHTjEubjtCNP",
        "outputId": "a708b228-09f2-4f1e-e446-13d59d42b56f"
      },
      "source": [
        "t0 = time.time()\n",
        "classifier.fit(train_x, train_y)\n",
        "t1 = time.time()"
      ],
      "execution_count": 16,
      "outputs": [
        {
          "output_type": "stream",
          "name": "stdout",
          "text": [
            "[WARNING] [2021-11-07 18:43:58,681:smac.runhistory.runhistory2epm.RunHistory2EPM4LogCost] Got cost of smaller/equal to 0. Replace by 0.000010 since we use log cost.\n",
            "[WARNING] [2021-11-07 18:44:00,706:smac.runhistory.runhistory2epm.RunHistory2EPM4LogCost] Got cost of smaller/equal to 0. Replace by 0.000010 since we use log cost.\n",
            "[WARNING] [2021-11-07 18:44:09,276:smac.runhistory.runhistory2epm.RunHistory2EPM4LogCost] Got cost of smaller/equal to 0. Replace by 0.000010 since we use log cost.\n",
            "[WARNING] [2021-11-07 18:44:11,201:smac.runhistory.runhistory2epm.RunHistory2EPM4LogCost] Got cost of smaller/equal to 0. Replace by 0.000010 since we use log cost.\n",
            "[WARNING] [2021-11-07 18:44:18,510:smac.runhistory.runhistory2epm.RunHistory2EPM4LogCost] Got cost of smaller/equal to 0. Replace by 0.000010 since we use log cost.\n",
            "[WARNING] [2021-11-07 18:44:20,821:smac.runhistory.runhistory2epm.RunHistory2EPM4LogCost] Got cost of smaller/equal to 0. Replace by 0.000010 since we use log cost.\n",
            "[WARNING] [2021-11-07 18:44:28,757:smac.runhistory.runhistory2epm.RunHistory2EPM4LogCost] Got cost of smaller/equal to 0. Replace by 0.000010 since we use log cost.\n",
            "[WARNING] [2021-11-07 18:44:30,237:smac.runhistory.runhistory2epm.RunHistory2EPM4LogCost] Got cost of smaller/equal to 0. Replace by 0.000010 since we use log cost.\n",
            "[WARNING] [2021-11-07 18:44:37,030:smac.runhistory.runhistory2epm.RunHistory2EPM4LogCost] Got cost of smaller/equal to 0. Replace by 0.000010 since we use log cost.\n",
            "[WARNING] [2021-11-07 18:44:39,146:smac.runhistory.runhistory2epm.RunHistory2EPM4LogCost] Got cost of smaller/equal to 0. Replace by 0.000010 since we use log cost.\n",
            "[WARNING] [2021-11-07 18:44:46,919:smac.runhistory.runhistory2epm.RunHistory2EPM4LogCost] Got cost of smaller/equal to 0. Replace by 0.000010 since we use log cost.\n",
            "[WARNING] [2021-11-07 18:44:49,102:smac.runhistory.runhistory2epm.RunHistory2EPM4LogCost] Got cost of smaller/equal to 0. Replace by 0.000010 since we use log cost.\n",
            "[WARNING] [2021-11-07 18:44:56,411:smac.runhistory.runhistory2epm.RunHistory2EPM4LogCost] Got cost of smaller/equal to 0. Replace by 0.000010 since we use log cost.\n",
            "[WARNING] [2021-11-07 18:45:04,042:smac.runhistory.runhistory2epm.RunHistory2EPM4LogCost] Got cost of smaller/equal to 0. Replace by 0.000010 since we use log cost.\n",
            "[WARNING] [2021-11-07 18:45:06,199:smac.runhistory.runhistory2epm.RunHistory2EPM4LogCost] Got cost of smaller/equal to 0. Replace by 0.000010 since we use log cost.\n",
            "[WARNING] [2021-11-07 18:45:13,240:smac.runhistory.runhistory2epm.RunHistory2EPM4LogCost] Got cost of smaller/equal to 0. Replace by 0.000010 since we use log cost.\n",
            "[WARNING] [2021-11-07 18:45:21,155:smac.runhistory.runhistory2epm.RunHistory2EPM4LogCost] Got cost of smaller/equal to 0. Replace by 0.000010 since we use log cost.\n",
            "[WARNING] [2021-11-07 18:45:27,697:smac.runhistory.runhistory2epm.RunHistory2EPM4LogCost] Got cost of smaller/equal to 0. Replace by 0.000010 since we use log cost.\n",
            "[WARNING] [2021-11-07 18:45:29,743:smac.runhistory.runhistory2epm.RunHistory2EPM4LogCost] Got cost of smaller/equal to 0. Replace by 0.000010 since we use log cost.\n",
            "[WARNING] [2021-11-07 18:45:37,867:smac.runhistory.runhistory2epm.RunHistory2EPM4LogCost] Got cost of smaller/equal to 0. Replace by 0.000010 since we use log cost.\n",
            "[WARNING] [2021-11-07 18:45:46,985:smac.runhistory.runhistory2epm.RunHistory2EPM4LogCost] Got cost of smaller/equal to 0. Replace by 0.000010 since we use log cost.\n",
            "[WARNING] [2021-11-07 18:45:53,882:smac.runhistory.runhistory2epm.RunHistory2EPM4LogCost] Got cost of smaller/equal to 0. Replace by 0.000010 since we use log cost.\n",
            "[WARNING] [2021-11-07 18:46:02,118:smac.runhistory.runhistory2epm.RunHistory2EPM4LogCost] Got cost of smaller/equal to 0. Replace by 0.000010 since we use log cost.\n",
            "[WARNING] [2021-11-07 18:46:03,656:smac.runhistory.runhistory2epm.RunHistory2EPM4LogCost] Got cost of smaller/equal to 0. Replace by 0.000010 since we use log cost.\n",
            "[WARNING] [2021-11-07 18:46:06,799:smac.runhistory.runhistory2epm.RunHistory2EPM4LogCost] Got cost of smaller/equal to 0. Replace by 0.000010 since we use log cost.\n"
          ]
        }
      ]
    },
    {
      "cell_type": "code",
      "metadata": {
        "id": "NUgy0ki5tGjg"
      },
      "source": [
        "autosk_predict = classifier.predict(test_x)\n",
        "train_autosk_predict = classifier.predict(train_x)"
      ],
      "execution_count": 17,
      "outputs": []
    },
    {
      "cell_type": "code",
      "metadata": {
        "id": "DJvVq06ntM3f"
      },
      "source": [
        "autosk_accuracy = sklearn.metrics.accuracy_score( \\\n",
        "           test_y, autosk_predict \\\n",
        "           )\n",
        "train_autosk_accuracy = sklearn.metrics.accuracy_score( \\\n",
        "           train_y,train_autosk_predict \\\n",
        "           )"
      ],
      "execution_count": 20,
      "outputs": []
    },
    {
      "cell_type": "code",
      "metadata": {
        "colab": {
          "base_uri": "https://localhost:8080/"
        },
        "id": "AqnIOM6ltV1J",
        "outputId": "af514447-d5a3-4d83-9f1a-04ddcbf667ba"
      },
      "source": [
        "print(f\"test accuracy {autosk_accuracy:.4f}\")\n",
        "print(f\"train accuracy {train_autosk_accuracy:.4f}\")\n",
        "print(f\"time to fit: {t1-t0}\")"
      ],
      "execution_count": 22,
      "outputs": [
        {
          "output_type": "stream",
          "name": "stdout",
          "text": [
            "test accuracy 0.8000\n",
            "train accuracy 1.0000\n",
            "time to fit: 301.6180441379547\n"
          ]
        }
      ]
    },
    {
      "cell_type": "code",
      "metadata": {
        "colab": {
          "base_uri": "https://localhost:8080/",
          "height": 203
        },
        "id": "tu6QnePdvWcp",
        "outputId": "c025e412-ca3c-47c0-ea49-aa9806ca1a5d"
      },
      "source": [
        "import pandas as pd\n",
        "data = {'train accuracy':[train_knn_accuracy,train_svm_accuracy,train_mlp_accuracy,train_autosk_accuracy],'test accuracy':[knn_accuracy,svm_accuracy,mlp_accuracy,autosk_accuracy]}\n",
        "df1 = pd.DataFrame(data)\n",
        "df1 = pd.DataFrame(data, index=['Default KNN','Default SVM','Default MLP','Auto-Sklearn'])\n",
        "df1.index.rename('ML models', inplace=True)\n",
        "df1"
      ],
      "execution_count": 24,
      "outputs": [
        {
          "output_type": "execute_result",
          "data": {
            "text/html": [
              "<div>\n",
              "<style scoped>\n",
              "    .dataframe tbody tr th:only-of-type {\n",
              "        vertical-align: middle;\n",
              "    }\n",
              "\n",
              "    .dataframe tbody tr th {\n",
              "        vertical-align: top;\n",
              "    }\n",
              "\n",
              "    .dataframe thead th {\n",
              "        text-align: right;\n",
              "    }\n",
              "</style>\n",
              "<table border=\"1\" class=\"dataframe\">\n",
              "  <thead>\n",
              "    <tr style=\"text-align: right;\">\n",
              "      <th></th>\n",
              "      <th>train accuracy</th>\n",
              "      <th>test accuracy</th>\n",
              "    </tr>\n",
              "    <tr>\n",
              "      <th>ML models</th>\n",
              "      <th></th>\n",
              "      <th></th>\n",
              "    </tr>\n",
              "  </thead>\n",
              "  <tbody>\n",
              "    <tr>\n",
              "      <th>Default KNN</th>\n",
              "      <td>0.983333</td>\n",
              "      <td>0.800000</td>\n",
              "    </tr>\n",
              "    <tr>\n",
              "      <th>Default SVM</th>\n",
              "      <td>0.966667</td>\n",
              "      <td>0.700000</td>\n",
              "    </tr>\n",
              "    <tr>\n",
              "      <th>Default MLP</th>\n",
              "      <td>0.983333</td>\n",
              "      <td>0.566667</td>\n",
              "    </tr>\n",
              "    <tr>\n",
              "      <th>Auto-Sklearn</th>\n",
              "      <td>1.000000</td>\n",
              "      <td>0.800000</td>\n",
              "    </tr>\n",
              "  </tbody>\n",
              "</table>\n",
              "</div>"
            ],
            "text/plain": [
              "              train accuracy  test accuracy\n",
              "ML models                                  \n",
              "Default KNN         0.983333       0.800000\n",
              "Default SVM         0.966667       0.700000\n",
              "Default MLP         0.983333       0.566667\n",
              "Auto-Sklearn        1.000000       0.800000"
            ]
          },
          "metadata": {},
          "execution_count": 24
        }
      ]
    },
    {
      "cell_type": "markdown",
      "metadata": {
        "id": "5CZK3fUVuNQJ"
      },
      "source": [
        ""
      ]
    }
  ]
}