{
 "cells": [
  {
   "cell_type": "markdown",
   "id": "W7G9brFaBKTd",
   "metadata": {
    "id": "W7G9brFaBKTd"
   },
   "source": [
    "## **Project Name:** Petrol Price Forecasting  using Tensor Flow and Auto Keras"
   ]
  },
  {
   "cell_type": "markdown",
   "id": "FYrfseUeCVCU",
   "metadata": {
    "id": "FYrfseUeCVCU"
   },
   "source": [
    "![fuel-price-india-1.webp](data:image/webp;base64,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)"
   ]
  },
  {
   "cell_type": "markdown",
   "id": "wZGfAtd9Bd6e",
   "metadata": {
    "id": "wZGfAtd9Bd6e"
   },
   "source": [
    "## Petrol Prices are going up continously these days and it has become very hard to predict what will be the price range in the next few months or even days.\n",
    "\n",
    "### In this project we will try to forecast the different petrol prices for the upcoming dates given to us. \n",
    "\n",
    "### We will use LSTM and ARIMA forecasting models to predict the prices then we will see how we can implement the same using Auto Keras, which is an Auto ML Library."
   ]
  },
  {
   "cell_type": "markdown",
   "id": "NeopOmsXCbpT",
   "metadata": {
    "id": "NeopOmsXCbpT"
   },
   "source": [
    "## TimeLine of the project:\n",
    "- Data Analysis\n",
    "- Model Building and predictions using ML techniques\n",
    "- Model Building and prediction using Auto Keras(Auto ML)"
   ]
  },
  {
   "cell_type": "markdown",
   "id": "QLg5ZonYCxh7",
   "metadata": {
    "id": "QLg5ZonYCxh7"
   },
   "source": [
    "**Importing Libraries**"
   ]
  },
  {
   "cell_type": "code",
   "execution_count": null,
   "id": "e315f51b",
   "metadata": {
    "id": "e315f51b"
   },
   "outputs": [],
   "source": [
    "import pandas as pd\n",
    "import numpy as np\n",
    "from matplotlib import pyplot as plt\n",
    "%matplotlib inline\n",
    "import matplotlib "
   ]
  },
  {
   "cell_type": "code",
   "execution_count": null,
   "id": "Z2EemE6Izx-U",
   "metadata": {
    "id": "Z2EemE6Izx-U"
   },
   "outputs": [],
   "source": [
    "from google.colab import drive\n",
    "drive.mount('/content/drive')"
   ]
  },
  {
   "cell_type": "code",
   "execution_count": null,
   "id": "23e09038",
   "metadata": {
    "id": "23e09038"
   },
   "outputs": [],
   "source": [
    "df1 = pd.read_csv(\"/content/drive/MyDrive/train_data.csv\")\n",
    "df1.head()"
   ]
  },
  {
   "cell_type": "markdown",
   "id": "E7SE4p_WHk-v",
   "metadata": {
    "id": "E7SE4p_WHk-v"
   },
   "source": [
    "**Data Analysis and splitting the data**"
   ]
  },
  {
   "cell_type": "code",
   "execution_count": null,
   "id": "yRE7X5FfSeqt",
   "metadata": {
    "id": "yRE7X5FfSeqt"
   },
   "outputs": [],
   "source": [
    "df1.head()\n",
    "df1.isnull().sum()"
   ]
  },
  {
   "cell_type": "code",
   "execution_count": null,
   "id": "ffb74343",
   "metadata": {
    "id": "ffb74343"
   },
   "outputs": [],
   "source": [
    "df2 = df1.dropna()"
   ]
  },
  {
   "cell_type": "code",
   "execution_count": null,
   "id": "e6c0da0d",
   "metadata": {
    "id": "e6c0da0d"
   },
   "outputs": [],
   "source": [
    "df2.rename(columns={\"Petrol (USD)\": \"Petrol\"}, inplace = True)\n",
    "df2.head()"
   ]
  },
  {
   "cell_type": "code",
   "execution_count": null,
   "id": "hqggRBHHN0QI",
   "metadata": {
    "id": "hqggRBHHN0QI"
   },
   "outputs": [],
   "source": [
    "plt.scatter(df2.Date, df2.Petrol,color='red',label='Prices', s=50)"
   ]
  },
  {
   "cell_type": "code",
   "execution_count": null,
   "id": "538544df",
   "metadata": {
    "id": "538544df"
   },
   "outputs": [],
   "source": [
    "df3=df2[df2.Petrol<160]\n",
    "plt.scatter(df3.Date, df3.Petrol,color='blue',label='Prices', s=50)\n"
   ]
  },
  {
   "cell_type": "code",
   "execution_count": null,
   "id": "3670d115",
   "metadata": {
    "id": "3670d115"
   },
   "outputs": [],
   "source": [
    "df4=df3.reset_index()['Petrol']\n",
    "df4.head()"
   ]
  },
  {
   "cell_type": "code",
   "execution_count": null,
   "id": "2d8aa241",
   "metadata": {
    "id": "2d8aa241"
   },
   "outputs": [],
   "source": [
    "from sklearn.preprocessing import MinMaxScaler\n",
    "scaler=MinMaxScaler(feature_range=(0,1))\n",
    "df4=scaler.fit_transform(np.array(df4).reshape(-1,1))"
   ]
  },
  {
   "cell_type": "code",
   "execution_count": null,
   "id": "B713sYwzOf-r",
   "metadata": {
    "id": "B713sYwzOf-r"
   },
   "outputs": [],
   "source": [
    "df4"
   ]
  },
  {
   "cell_type": "code",
   "execution_count": null,
   "id": "1a123c80",
   "metadata": {
    "id": "1a123c80"
   },
   "outputs": [],
   "source": [
    "training_size=int(len(df4)*0.65)\n",
    "test_size=len(df4)-training_size\n",
    "train_data,test_data=df4[0:training_size,:],df4[training_size:len(df4),:1]"
   ]
  },
  {
   "cell_type": "code",
   "execution_count": null,
   "id": "IQfKh3_yTwhE",
   "metadata": {
    "id": "IQfKh3_yTwhE"
   },
   "outputs": [],
   "source": [
    "train_data.shape\n",
    "test_data.shape"
   ]
  },
  {
   "cell_type": "markdown",
   "id": "tYDEjWEoZauH",
   "metadata": {
    "id": "tYDEjWEoZauH"
   },
   "source": [
    "**Data Preprocessing**"
   ]
  },
  {
   "cell_type": "code",
   "execution_count": null,
   "id": "0dc8a949",
   "metadata": {
    "id": "0dc8a949"
   },
   "outputs": [],
   "source": [
    " import numpy\n",
    "# convert an array of values into a dataset matrix\n",
    "def create_dataset(dataset, time_step=1):\n",
    "\tdataX, dataY = [], []\n",
    "\tfor i in range(len(dataset)-time_step-1):\n",
    "\t\ta = dataset[i:(i+time_step), 0]   ###i=0, 0,1,2,3-----99   100 \n",
    "\t\tdataX.append(a)\n",
    "\t\tdataY.append(dataset[i + time_step, 0])\n",
    "\treturn numpy.array(dataX), numpy.array(dataY)"
   ]
  },
  {
   "cell_type": "code",
   "execution_count": null,
   "id": "39785275",
   "metadata": {
    "id": "39785275"
   },
   "outputs": [],
   "source": [
    "# reshape into X=t,t+1,t+2,t+3 and Y=t+4\n",
    "time_step = 100\n",
    "X_train, y_train = create_dataset(train_data, time_step)\n",
    "X_test, ytest = create_dataset(test_data, time_step)"
   ]
  },
  {
   "cell_type": "code",
   "execution_count": null,
   "id": "mLHLpdmpcBlC",
   "metadata": {
    "id": "mLHLpdmpcBlC"
   },
   "outputs": [],
   "source": [
    "X_train"
   ]
  },
  {
   "cell_type": "code",
   "execution_count": null,
   "id": "8o7UzuZEcFhl",
   "metadata": {
    "id": "8o7UzuZEcFhl"
   },
   "outputs": [],
   "source": [
    "y_train"
   ]
  },
  {
   "cell_type": "code",
   "execution_count": null,
   "id": "005e586d",
   "metadata": {
    "id": "005e586d"
   },
   "outputs": [],
   "source": [
    "print(X_train.shape), print(y_train.shape)"
   ]
  },
  {
   "cell_type": "markdown",
   "id": "bJLSlRVajL9P",
   "metadata": {
    "id": "bJLSlRVajL9P"
   },
   "source": [
    "# LSTM "
   ]
  },
  {
   "cell_type": "code",
   "execution_count": null,
   "id": "5a9aae2a",
   "metadata": {
    "id": "5a9aae2a"
   },
   "outputs": [],
   "source": [
    "X_train =X_train.reshape(X_train.shape[0],X_train.shape[1] , 1)\n",
    "X_test = X_test.reshape(X_test.shape[0],X_test.shape[1] , 1)"
   ]
  },
  {
   "cell_type": "code",
   "execution_count": null,
   "id": "869c9a75",
   "metadata": {
    "id": "869c9a75"
   },
   "outputs": [],
   "source": [
    "from tensorflow.keras.models import Sequential\n",
    "\n",
    "from tensorflow.keras.layers import Dense\n",
    "from tensorflow.keras.layers import LSTM\n",
    "model=Sequential()\n",
    "model.add(LSTM(50,return_sequences=True,input_shape=(100,1)))\n",
    "model.add(LSTM(50,return_sequences=True))\n",
    "model.add(LSTM(50))\n",
    "model.add(Dense(1))\n",
    "model.compile(loss='mean_squared_error',optimizer='adam')"
   ]
  },
  {
   "cell_type": "code",
   "execution_count": null,
   "id": "baa8cd08",
   "metadata": {
    "id": "baa8cd08"
   },
   "outputs": [],
   "source": [
    "model.fit(X_train,y_train,validation_data=(X_test,ytest),epochs=100,batch_size=64,verbose=1)"
   ]
  },
  {
   "cell_type": "code",
   "execution_count": null,
   "id": "62dabcc0",
   "metadata": {
    "id": "62dabcc0"
   },
   "outputs": [],
   "source": [
    "### Lets Do the prediction and check performance metrics\n",
    "train_predict=model.predict(X_train)\n",
    "test_predict=model.predict(X_test)"
   ]
  },
  {
   "cell_type": "code",
   "execution_count": null,
   "id": "b9fccd41",
   "metadata": {
    "id": "b9fccd41"
   },
   "outputs": [],
   "source": [
    "##Transformback to original form\n",
    "train_predict=scaler.inverse_transform(train_predict)\n",
    "test_predict=scaler.inverse_transform(test_predict)"
   ]
  },
  {
   "cell_type": "code",
   "execution_count": null,
   "id": "be5b24de",
   "metadata": {
    "id": "be5b24de"
   },
   "outputs": [],
   "source": [
    "### Plotting \n",
    "# shift train predictions for plotting\n",
    "look_back=100\n",
    "trainPredictPlot = numpy.empty_like(df4)\n",
    "trainPredictPlot[:, :] = np.nan\n",
    "trainPredictPlot[look_back:len(train_predict)+look_back, :] = train_predict\n",
    "# shift test predictions for plotting\n",
    "testPredictPlot = numpy.empty_like(df4)\n",
    "testPredictPlot[:, :] = numpy.nan\n",
    "testPredictPlot[len(train_predict)+(look_back*2)+1:len(df4)-1, :] = test_predict\n",
    "# plot baseline and predictions\n",
    "plt.plot(scaler.inverse_transform(df4))\n",
    "plt.plot(trainPredictPlot)\n",
    "plt.plot(testPredictPlot)\n",
    "plt.show()"
   ]
  },
  {
   "cell_type": "code",
   "execution_count": null,
   "id": "7b036aac",
   "metadata": {
    "id": "7b036aac"
   },
   "outputs": [],
   "source": [
    "df_test=pd.read_csv(\"test_data.csv\")\n",
    "df_test.head()"
   ]
  },
  {
   "cell_type": "code",
   "execution_count": null,
   "id": "00d514c6",
   "metadata": {
    "id": "00d514c6"
   },
   "outputs": [],
   "source": [
    "model.save(\"prtrol price prediction\")"
   ]
  },
  {
   "cell_type": "markdown",
   "id": "hpAqppG-OFe7",
   "metadata": {
    "id": "hpAqppG-OFe7"
   },
   "source": [
    "## **Using ARIMA**"
   ]
  },
  {
   "cell_type": "code",
   "execution_count": null,
   "id": "RZPU8JPWnZSy",
   "metadata": {
    "id": "RZPU8JPWnZSy"
   },
   "outputs": [],
   "source": [
    "!pip install --upgrade patsy"
   ]
  },
  {
   "cell_type": "code",
   "execution_count": null,
   "id": "gD6Y2IDNl0os",
   "metadata": {
    "id": "gD6Y2IDNl0os"
   },
   "outputs": [],
   "source": [
    "!pip install statsmodels"
   ]
  },
  {
   "cell_type": "code",
   "execution_count": null,
   "id": "Y5dPBU9Enk85",
   "metadata": {
    "id": "Y5dPBU9Enk85"
   },
   "outputs": [],
   "source": [
    "!pip install --upgrade --no-deps statsmodels"
   ]
  },
  {
   "cell_type": "code",
   "execution_count": null,
   "id": "ajeghoPZDx7C",
   "metadata": {
    "id": "ajeghoPZDx7C"
   },
   "outputs": [],
   "source": [
    "import pandas as pd\n",
    "from statsmodels.tsa.arima.model import ARIMA\n",
    "from matplotlib import pyplot as plt\n",
    "from pandas import read_csv\n",
    "from pandas import datetime \n",
    "from matplotlib import pyplot\n",
    "\n",
    "from sklearn.metrics import mean_squared_error\n",
    "from math import sqrt"
   ]
  },
  {
   "cell_type": "code",
   "execution_count": null,
   "id": "ZWaJ03yno2SX",
   "metadata": {
    "id": "ZWaJ03yno2SX"
   },
   "outputs": [],
   "source": [
    "df = pd.read_csv(\"/content/drive/MyDrive/train_data.csv\")\n",
    "df.head()"
   ]
  },
  {
   "cell_type": "code",
   "execution_count": null,
   "id": "9iVm6Jl1pruM",
   "metadata": {
    "id": "9iVm6Jl1pruM"
   },
   "outputs": [],
   "source": [
    "df.rename(columns={\"Petrol (USD)\": \"Petrol\"}, inplace = True)\n",
    "df.head()"
   ]
  },
  {
   "cell_type": "code",
   "execution_count": null,
   "id": "nCDqO0KUD2Tq",
   "metadata": {
    "id": "nCDqO0KUD2Tq"
   },
   "outputs": [],
   "source": [
    "df2 = df.dropna()\n",
    "df3=df2[df2.Petrol<160]\n",
    "df3.head()\n"
   ]
  },
  {
   "cell_type": "code",
   "execution_count": null,
   "id": "rgmu2cLaqDCE",
   "metadata": {
    "id": "rgmu2cLaqDCE"
   },
   "outputs": [],
   "source": [
    "df4=df3.reset_index()['Petrol']\n",
    "df4.head()"
   ]
  },
  {
   "cell_type": "code",
   "execution_count": null,
   "id": "vks4TdPaD6OS",
   "metadata": {
    "id": "vks4TdPaD6OS"
   },
   "outputs": [],
   "source": [
    "model1 = ARIMA(df4.values, order=(5,1,0))\n",
    "model_fit1 = model1.fit()\n",
    "output1= model_fit1.forecast(steps=30)\n",
    "output1"
   ]
  },
  {
   "cell_type": "markdown",
   "id": "iVKwRTmDnxwd",
   "metadata": {
    "id": "iVKwRTmDnxwd"
   },
   "source": [
    "# Using Auto ML"
   ]
  },
  {
   "cell_type": "markdown",
   "id": "uNVmRVGun23V",
   "metadata": {
    "id": "uNVmRVGun23V"
   },
   "source": [
    " ![download.png](data:image/png;base64,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)"
   ]
  },
  {
   "cell_type": "markdown",
   "id": "5nEy2U0hoGEZ",
   "metadata": {
    "id": "5nEy2U0hoGEZ"
   },
   "source": [
    "## AutoKeras: An AutoML system based on Keras. It is developed by DATA Lab at Texas A&M University"
   ]
  },
  {
   "cell_type": "markdown",
   "id": "lThRUPGnoIZZ",
   "metadata": {
    "id": "lThRUPGnoIZZ"
   },
   "source": [
    "## Installing Auto Keras"
   ]
  },
  {
   "cell_type": "code",
   "execution_count": null,
   "id": "dfe88bcc",
   "metadata": {
    "id": "dfe88bcc"
   },
   "outputs": [],
   "source": [
    "!pip install git+https://github.com/keras-team/keras-tuner.git@1.0.2rc1\n"
   ]
  },
  {
   "cell_type": "code",
   "execution_count": null,
   "id": "b1ea1595",
   "metadata": {
    "id": "b1ea1595"
   },
   "outputs": [],
   "source": [
    "!pip install autokeras"
   ]
  },
  {
   "cell_type": "code",
   "execution_count": null,
   "id": "3A0tyai90XP4",
   "metadata": {
    "id": "3A0tyai90XP4"
   },
   "outputs": [],
   "source": [
    "!pip show autokeras"
   ]
  },
  {
   "cell_type": "code",
   "execution_count": null,
   "id": "jE_IvaIs1O3z",
   "metadata": {
    "id": "jE_IvaIs1O3z"
   },
   "outputs": [],
   "source": [
    "import numpy as np\n",
    "import pandas as pd\n",
    "import tensorflow as tf\n",
    "\n",
    "\n",
    "import autokeras as ak"
   ]
  },
  {
   "cell_type": "code",
   "execution_count": null,
   "id": "OdAi99490vlO",
   "metadata": {
    "id": "OdAi99490vlO"
   },
   "outputs": [],
   "source": [
    "reg = ak.StructuredDataRegressor(\n",
    "    overwrite=True, max_trials=3\n",
    ")"
   ]
  },
  {
   "cell_type": "code",
   "execution_count": null,
   "id": "yaD54ZIB05_N",
   "metadata": {
    "id": "yaD54ZIB05_N"
   },
   "outputs": [],
   "source": [
    "reg.fit(x=X_train, y=y_train, verbose=0)"
   ]
  },
  {
   "cell_type": "code",
   "execution_count": null,
   "id": "_EAR0zb41keP",
   "metadata": {
    "id": "_EAR0zb41keP"
   },
   "outputs": [],
   "source": [
    "\n",
    "# evaluate the model\n",
    "mae, _  = reg.evaluate(X_test, ytest, verbose=0)\n",
    "#print('MAE: %.3f' % mae)\n",
    "# use the model to make a prediction\n",
    "yhat_test = reg.predict(X_test)\n",
    "\n",
    "# get the best performing model\n",
    "model = reg.export_model()\n"
   ]
  },
  {
   "cell_type": "code",
   "execution_count": null,
   "id": "XFyX-Bur2SgJ",
   "metadata": {
    "id": "XFyX-Bur2SgJ"
   },
   "outputs": [],
   "source": [
    "# summarize the loaded model\n",
    "model.summary()"
   ]
  },
  {
   "cell_type": "code",
   "execution_count": null,
   "id": "VWny4-JW2pKW",
   "metadata": {
    "id": "VWny4-JW2pKW"
   },
   "outputs": [],
   "source": [
    "yhat_train= reg.predict(X_train)"
   ]
  },
  {
   "cell_type": "code",
   "execution_count": null,
   "id": "KIjUsMMz2r1Z",
   "metadata": {
    "id": "KIjUsMMz2r1Z"
   },
   "outputs": [],
   "source": [
    "train_predict=scaler.inverse_transform(yhat_train)\n",
    "test_predict=scaler.inverse_transform(yhat_test)"
   ]
  },
  {
   "cell_type": "code",
   "execution_count": null,
   "id": "0zK6AKcq3aZp",
   "metadata": {
    "id": "0zK6AKcq3aZp"
   },
   "outputs": [],
   "source": [
    "from sklearn.metrics import mean_squared_error"
   ]
  },
  {
   "cell_type": "code",
   "execution_count": null,
   "id": "4EknM_n43gSF",
   "metadata": {
    "id": "4EknM_n43gSF"
   },
   "outputs": [],
   "source": [
    "mean_squared_error(ytest,yhat_test)"
   ]
  },
  {
   "cell_type": "code",
   "execution_count": null,
   "id": "iQSmVcMGwWQc",
   "metadata": {
    "id": "iQSmVcMGwWQc"
   },
   "outputs": [],
   "source": [
    "mean_squared_error(y_train,yhat_train)"
   ]
  },
  {
   "cell_type": "code",
   "execution_count": null,
   "id": "3dI3AUtDwd-E",
   "metadata": {
    "id": "3dI3AUtDwd-E"
   },
   "outputs": [],
   "source": []
  }
 ],
 "metadata": {
  "colab": {
   "collapsed_sections": [],
   "name": "New petrol prediction.ipynb",
   "provenance": []
  },
  "kernelspec": {
   "display_name": "Python 3",
   "language": "python",
   "name": "python3"
  },
  "language_info": {
   "codemirror_mode": {
    "name": "ipython",
    "version": 3
   },
   "file_extension": ".py",
   "mimetype": "text/x-python",
   "name": "python",
   "nbconvert_exporter": "python",
   "pygments_lexer": "ipython3",
   "version": "3.8.8"
  }
 },
 "nbformat": 4,
 "nbformat_minor": 5
}
